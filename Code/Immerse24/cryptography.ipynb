{
 "cells": [
  {
   "cell_type": "markdown",
   "metadata": {},
   "source": [
    "The following notebook supports the lecture on cryptography. The code is not designed to deliver optimal performance, but rather to illustrate the concepts in the clearest way. Minimal optimization has been done, with the exception of exponentiation as it could cause overflow errors. \n",
    "\n",
    "This notebook can be redistributed, adapted or copied freely, though the author should be acknowledged. This document may still contain typo’s / mistakes, and as such comments are welcome. Contact information can be found on the author’s website.\n",
    "\n",
    "Seppe Staelens"
   ]
  },
  {
   "cell_type": "code",
   "execution_count": 1,
   "metadata": {},
   "outputs": [],
   "source": [
    "import numpy as np"
   ]
  },
  {
   "cell_type": "markdown",
   "metadata": {},
   "source": [
    "# Exercise"
   ]
  },
  {
   "cell_type": "markdown",
   "metadata": {},
   "source": [
    "Solve $x^7 \\equiv 5 \\mod 143$"
   ]
  },
  {
   "cell_type": "code",
   "execution_count": 3,
   "metadata": {},
   "outputs": [
    {
     "name": "stdout",
     "output_type": "stream",
     "text": [
      "125\n"
     ]
    }
   ],
   "source": [
    "e = 7\n",
    "n = 143\n",
    "c = 5\n",
    "\n",
    "for i in range(1,n + 1):\n",
    "    LHS = i**e - c\n",
    "    if LHS%n == 0:\n",
    "        x = i\n",
    "        print(x)\n",
    "        break"
   ]
  },
  {
   "cell_type": "code",
   "execution_count": 4,
   "metadata": {},
   "outputs": [
    {
     "name": "stdout",
     "output_type": "stream",
     "text": [
      "476837158203125\n",
      "476837158203120\n",
      "3334525581840.0\n"
     ]
    }
   ],
   "source": [
    "print(x**e)\n",
    "print(x**e - c)\n",
    "print((x**e - c)/n)"
   ]
  },
  {
   "cell_type": "markdown",
   "metadata": {},
   "source": [
    "# Example"
   ]
  },
  {
   "cell_type": "markdown",
   "metadata": {},
   "source": [
    "## Functions"
   ]
  },
  {
   "cell_type": "code",
   "execution_count": 2,
   "metadata": {},
   "outputs": [],
   "source": [
    "def chosen(p, q):\n",
    "    \"\"\"Calculate n and phi(n) from chosen p,q\"\"\"\n",
    "    n = p*q\n",
    "    phi_n = (p-1)*(q-1)\n",
    "    print(\"n = \", n)\n",
    "    print(r'phi(n) = ', phi_n)\n",
    "    return n, phi_n\n",
    "\n",
    "def check_e(e, phi_n):\n",
    "    \"\"\"Check if e is coprime to phi(n)\"\"\"\n",
    "    if np.gcd(e, phi_n) == 1:\n",
    "        print(\"e is coprime to phi(n)\")\n",
    "    else:\n",
    "        print(\"e is not coprime to phi(n)\")\n",
    "\n",
    "def check_d(d, e, phi_n):\n",
    "    \"\"\"Check if d is the modular inverse of e mod phi(n)\"\"\"\n",
    "    if d*e % phi_n == 1:\n",
    "        print(\"d is the modular inverse of e mod phi(n)\")\n",
    "    else:\n",
    "        print(\"d is not the modular inverse of e mod phi(n)\")\n",
    "\n",
    "def alt_ord(char):\n",
    "    \"\"\"Include space as 27th character in alphabet\"\"\"\n",
    "    if char == ' ':\n",
    "        return 27\n",
    "    else:\n",
    "        return ord(char) - 96\n",
    "    \n",
    "def alt_chr(num):\n",
    "    \"\"\"Include space as 27th character in alphabet\"\"\"\n",
    "    if num == 27:\n",
    "        return ' '\n",
    "    else:\n",
    "        return chr(num + 96)\n",
    "    \n",
    "def convert_message(message):\n",
    "    \"\"\"Convert message to numbers\"\"\"\n",
    "    n_full_chunks = len(message) // 3\n",
    "    len_partial_chunk = len(message) % 3\n",
    "\n",
    "    print(\"Message length: \", len(message))\n",
    "    print(\"Full chunks: \", n_full_chunks)\n",
    "    print(\"Partial chunk: \", len_partial_chunk)\n",
    "\n",
    "    Messages = []\n",
    "\n",
    "    for i in range(n_full_chunks):\n",
    "        chunk = message[i*3:i*3+3]\n",
    "        print(\"Encrypting \" + chunk)\n",
    "        list = [alt_ord(char) for char in chunk.lower()]\n",
    "        val = 28 * 100**3 + list[0] * 100**2 + list[1] * 100 + list[2]\n",
    "        Messages.append(val)\n",
    "\n",
    "    if len_partial_chunk > 0:\n",
    "        chunk = message[-len_partial_chunk:]\n",
    "        print(\"Encrypting \" + chunk)\n",
    "        val = 28 * 100**(len_partial_chunk)\n",
    "        list = [alt_ord(char) for char in chunk.lower()]\n",
    "        for i in range(len_partial_chunk):\n",
    "            val += list[-len_partial_chunk + i] * 100**(len_partial_chunk - i - 1)\n",
    "        Messages.append(val)\n",
    "\n",
    "    return np.array(Messages)\n",
    "    \n",
    "def safe_exp(x, e, n):\n",
    "    \"\"\"Overflow safe modular exponentiation - \n",
    "    at least for small enough numbers\"\"\"\n",
    "    result = 1\n",
    "    for i in range(e):\n",
    "        result = (result * x) % n\n",
    "    return result\n",
    "\n",
    "def num_to_let(M):\n",
    "    \"\"\"Translate numbers back to letters / space\"\"\"\n",
    "    letters = \"\"\n",
    "    while M > 28:\n",
    "        letters += alt_chr(M % 100)\n",
    "        M = M // 100\n",
    "    return letters[::-1]\n",
    "\n",
    "def decrypt(M):\n",
    "    \"\"\"Decrypt message\"\"\"\n",
    "    message = \"\"\n",
    "    for num in M:\n",
    "        message += num_to_let(num)\n",
    "    print(message)\n",
    "    \n"
   ]
  },
  {
   "cell_type": "markdown",
   "metadata": {},
   "source": [
    "## Example itself"
   ]
  },
  {
   "cell_type": "code",
   "execution_count": 12,
   "metadata": {},
   "outputs": [
    {
     "name": "stdout",
     "output_type": "stream",
     "text": [
      "n =  31952549\n",
      "phi(n) =  31940064\n"
     ]
    }
   ],
   "source": [
    "# p and q secret\n",
    "p = 3593\n",
    "q = 8893\n",
    "# p = 8761\n",
    "# q = 5527\n",
    "\n",
    "# n = pq and phi(n) = (p-1)(q-1)\n",
    "# phi_n remains secret\n",
    "# n becomes public\n",
    "n, phi_n = chosen(p, q)"
   ]
  },
  {
   "cell_type": "markdown",
   "metadata": {},
   "source": [
    "Note: for the code to work, $n > 29\\: 000\\: 000$"
   ]
  },
  {
   "cell_type": "code",
   "execution_count": 13,
   "metadata": {},
   "outputs": [
    {
     "name": "stdout",
     "output_type": "stream",
     "text": [
      "e is coprime to phi(n)\n"
     ]
    }
   ],
   "source": [
    "e = 5\n",
    "# e = 7\n",
    "check_e(e, phi_n)"
   ]
  },
  {
   "cell_type": "code",
   "execution_count": 14,
   "metadata": {},
   "outputs": [
    {
     "name": "stdout",
     "output_type": "stream",
     "text": [
      "d is the modular inverse of e mod phi(n)\n"
     ]
    }
   ],
   "source": [
    "# de = 1 mod phi(n)\n",
    "d = 6388013\n",
    "# d = 20746183\n",
    "check_d(d, e, phi_n)"
   ]
  },
  {
   "cell_type": "markdown",
   "metadata": {},
   "source": [
    "We will start our chunks of message with 28 in order to avoid leading zeroes when converting letters to numbers in the alphabet. This means that our message needs to be split in chunks of 3 letters, to form a number of the form\n",
    "28.xx.xx.xx"
   ]
  },
  {
   "cell_type": "code",
   "execution_count": 15,
   "metadata": {},
   "outputs": [],
   "source": [
    "message = \"top secret info\""
   ]
  },
  {
   "cell_type": "code",
   "execution_count": 16,
   "metadata": {},
   "outputs": [
    {
     "name": "stdout",
     "output_type": "stream",
     "text": [
      "[20, 15, 16, 27, 19, 5, 3, 18, 5, 20, 27, 9, 14, 6, 15]\n"
     ]
    }
   ],
   "source": [
    "M = [alt_ord(char) for char in message.lower()]\n",
    "print(M)"
   ]
  },
  {
   "cell_type": "code",
   "execution_count": 17,
   "metadata": {},
   "outputs": [
    {
     "name": "stdout",
     "output_type": "stream",
     "text": [
      "Message length:  15\n",
      "Full chunks:  5\n",
      "Partial chunk:  0\n",
      "Encrypting top\n",
      "Encrypting  se\n",
      "Encrypting cre\n",
      "Encrypting t i\n",
      "Encrypting nfo\n"
     ]
    },
    {
     "data": {
      "text/plain": [
       "array([28201516, 28271905, 28031805, 28202709, 28140615])"
      ]
     },
     "execution_count": 17,
     "metadata": {},
     "output_type": "execute_result"
    }
   ],
   "source": [
    "encoded = convert_message(message)\n",
    "encoded"
   ]
  },
  {
   "cell_type": "code",
   "execution_count": 18,
   "metadata": {},
   "outputs": [
    {
     "data": {
      "text/plain": [
       "array([29886512, 13955083, 23895516,    42650, 17922868])"
      ]
     },
     "execution_count": 18,
     "metadata": {},
     "output_type": "execute_result"
    }
   ],
   "source": [
    "encrypted = safe_exp(encoded, e, n)\n",
    "encrypted"
   ]
  },
  {
   "cell_type": "code",
   "execution_count": 19,
   "metadata": {},
   "outputs": [
    {
     "name": "stdout",
     "output_type": "stream",
     "text": [
      "}¸¡l¿³¹pz¼|¤\n"
     ]
    }
   ],
   "source": [
    "decrypt(encrypted)"
   ]
  },
  {
   "cell_type": "code",
   "execution_count": 20,
   "metadata": {},
   "outputs": [
    {
     "name": "stdout",
     "output_type": "stream",
     "text": [
      "[28201516 28271905 28031805 28202709 28140615]\n",
      "top secret info\n"
     ]
    }
   ],
   "source": [
    "decrypted = safe_exp(encrypted, d, n)\n",
    "print(decrypted)\n",
    "decrypt(decrypted)"
   ]
  }
 ],
 "metadata": {
  "kernelspec": {
   "display_name": "base",
   "language": "python",
   "name": "python3"
  },
  "language_info": {
   "codemirror_mode": {
    "name": "ipython",
    "version": 3
   },
   "file_extension": ".py",
   "mimetype": "text/x-python",
   "name": "python",
   "nbconvert_exporter": "python",
   "pygments_lexer": "ipython3",
   "version": "3.12.4"
  }
 },
 "nbformat": 4,
 "nbformat_minor": 2
}

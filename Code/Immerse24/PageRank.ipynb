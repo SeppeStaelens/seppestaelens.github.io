{
 "cells": [
  {
   "cell_type": "markdown",
   "metadata": {},
   "source": [
    "The following notebook supports the lecture on cryptography. The code is not designed to deliver optimal performance, but rather to illustrate the concepts in the clearest way. Minimal optimization has been done, with the exception of exponentiation as it could cause overflow errors. \n",
    "\n",
    "This notebook can be redistributed, adapted or copied freely, though the author should be acknowledged. This document may still contain typo’s / mistakes, and as such comments are welcome. Contact information can be found on the author’s website.\n",
    "\n",
    "Seppe Staelens"
   ]
  },
  {
   "cell_type": "code",
   "execution_count": 2,
   "metadata": {},
   "outputs": [],
   "source": [
    "import numpy as np"
   ]
  },
  {
   "cell_type": "markdown",
   "metadata": {},
   "source": [
    "## Initial example"
   ]
  },
  {
   "cell_type": "markdown",
   "metadata": {},
   "source": [
    "The linking matrix"
   ]
  },
  {
   "cell_type": "code",
   "execution_count": 3,
   "metadata": {},
   "outputs": [
    {
     "name": "stdout",
     "output_type": "stream",
     "text": [
      "[[0.         0.5        0.         0.        ]\n",
      " [0.33333333 0.         0.         0.5       ]\n",
      " [0.33333333 0.         0.         0.5       ]\n",
      " [0.33333333 0.5        1.         0.        ]]\n"
     ]
    }
   ],
   "source": [
    "L = np.array([[0, 1/3, 1/3, 1/3], \n",
    "              [1/2, 0, 0, 1/2], \n",
    "              [0, 0, 0, 1],\n",
    "              [0, 1/2, 1/2, 0]]).T\n",
    "print(L)"
   ]
  },
  {
   "cell_type": "markdown",
   "metadata": {},
   "source": [
    "Initial guess"
   ]
  },
  {
   "cell_type": "code",
   "execution_count": 4,
   "metadata": {},
   "outputs": [
    {
     "name": "stdout",
     "output_type": "stream",
     "text": [
      "[[0.25]\n",
      " [0.25]\n",
      " [0.25]\n",
      " [0.25]]\n"
     ]
    }
   ],
   "source": [
    "v = np.array([[1/4, 1/4, 1/4, 1/4]]).T\n",
    "print(v)"
   ]
  },
  {
   "cell_type": "markdown",
   "metadata": {},
   "source": [
    "The power iteration procedure"
   ]
  },
  {
   "cell_type": "code",
   "execution_count": 5,
   "metadata": {},
   "outputs": [],
   "source": [
    "def power_iteration(L, v, num_simulations):\n",
    "    for i in range(num_simulations):\n",
    "        v = L@v\n",
    "    return v"
   ]
  },
  {
   "cell_type": "code",
   "execution_count": 6,
   "metadata": {},
   "outputs": [
    {
     "name": "stdout",
     "output_type": "stream",
     "text": [
      "[[0.125     ]\n",
      " [0.20833333]\n",
      " [0.20833333]\n",
      " [0.45833333]]\n",
      "[[0.11208064]\n",
      " [0.25438549]\n",
      " [0.25438549]\n",
      " [0.37914838]]\n",
      "[[0.11999863]\n",
      " [0.24000249]\n",
      " [0.24000249]\n",
      " [0.39999639]]\n",
      "[[0.12]\n",
      " [0.24]\n",
      " [0.24]\n",
      " [0.4 ]]\n"
     ]
    }
   ],
   "source": [
    "print(power_iteration(L, v, 1))\n",
    "print(power_iteration(L, v, 10))\n",
    "print(power_iteration(L, v, 100))\n",
    "print(power_iteration(L, v, 1000))"
   ]
  },
  {
   "cell_type": "markdown",
   "metadata": {},
   "source": [
    "So, the eigenvector with eigenvalue 1 is $v = \\begin{pmatrix} 0.12 \\\\ 0.24 \\\\ 0.24 \\\\ 0.4 \\end{pmatrix}$"
   ]
  },
  {
   "cell_type": "markdown",
   "metadata": {},
   "source": [
    "Another initial value"
   ]
  },
  {
   "cell_type": "code",
   "execution_count": 7,
   "metadata": {},
   "outputs": [],
   "source": [
    "v2 = np.array([[1, 2, 3, 20]]).T\n",
    "v2 = v2/np.sum(v2)"
   ]
  },
  {
   "cell_type": "code",
   "execution_count": 8,
   "metadata": {},
   "outputs": [
    {
     "data": {
      "text/plain": [
       "array([[0.12],\n",
       "       [0.24],\n",
       "       [0.24],\n",
       "       [0.4 ]])"
      ]
     },
     "execution_count": 8,
     "metadata": {},
     "output_type": "execute_result"
    }
   ],
   "source": [
    "power_iteration(L, v2, 1000)"
   ]
  },
  {
   "cell_type": "markdown",
   "metadata": {},
   "source": [
    "## Adding traps"
   ]
  },
  {
   "cell_type": "markdown",
   "metadata": {},
   "source": [
    "### Spider trap"
   ]
  },
  {
   "cell_type": "code",
   "execution_count": 9,
   "metadata": {},
   "outputs": [
    {
     "name": "stdout",
     "output_type": "stream",
     "text": [
      "[[0.  0.5 0.  0. ]\n",
      " [0.5 0.5 0.  0. ]\n",
      " [0.5 0.  1.  0. ]\n",
      " [0.  0.  0.  1. ]]\n"
     ]
    }
   ],
   "source": [
    "L2 = np.array([[0., 0.5, 0., 0.],\n",
    "              [0.5, 0.5, 0., 0.],\n",
    "              [0.5, 0., 1., 0.],\n",
    "              [0., 0., 0., 1.]])\n",
    "print(L2)"
   ]
  },
  {
   "cell_type": "code",
   "execution_count": 11,
   "metadata": {},
   "outputs": [
    {
     "data": {
      "text/plain": [
       "array([[1.64091934e-93],\n",
       "       [2.65506326e-93],\n",
       "       [7.50000000e-01],\n",
       "       [2.50000000e-01]])"
      ]
     },
     "execution_count": 11,
     "metadata": {},
     "output_type": "execute_result"
    }
   ],
   "source": [
    "power_iteration(L2, v, 1000)"
   ]
  },
  {
   "cell_type": "markdown",
   "metadata": {},
   "source": [
    "This clearly tends towards $\\begin{pmatrix} 0 \\\\ 0 \\\\ 1\\end{pmatrix}$"
   ]
  },
  {
   "cell_type": "markdown",
   "metadata": {},
   "source": [
    "### Dead end"
   ]
  },
  {
   "cell_type": "code",
   "execution_count": 71,
   "metadata": {},
   "outputs": [
    {
     "name": "stdout",
     "output_type": "stream",
     "text": [
      "[[0.5 0.5 0. ]\n",
      " [0.5 0.  0. ]\n",
      " [0.  0.5 0. ]]\n",
      "\n",
      " [[0.33333333]\n",
      " [0.33333333]\n",
      " [0.33333333]]\n"
     ]
    }
   ],
   "source": [
    "L3 = np.array([[0.5, 0.5, 0],\n",
    "              [0.5, 0, 0.],\n",
    "              [0., 0.5, 0.]])\n",
    "print(L3)\n",
    "\n",
    "v3 = np.array([[1/3, 1/3, 1/3]]).T\n",
    "\n",
    "print(\"\\n\", v3)"
   ]
  },
  {
   "cell_type": "code",
   "execution_count": 75,
   "metadata": {},
   "outputs": [
    {
     "data": {
      "text/plain": [
       "array([[3.54008435e-93],\n",
       "       [2.18789245e-93],\n",
       "       [1.35219190e-93]])"
      ]
     },
     "execution_count": 75,
     "metadata": {},
     "output_type": "execute_result"
    }
   ],
   "source": [
    "power_iteration(L3, v3, 1000)"
   ]
  },
  {
   "cell_type": "markdown",
   "metadata": {},
   "source": [
    "This clearly tends towards $\\begin{pmatrix} 0 \\\\ 0 \\\\ 0\\end{pmatrix}$"
   ]
  },
  {
   "cell_type": "markdown",
   "metadata": {},
   "source": [
    "### Solution"
   ]
  },
  {
   "cell_type": "code",
   "execution_count": 89,
   "metadata": {},
   "outputs": [],
   "source": [
    "def adjusted_power_iteration(L, v, num_simulations, alpha):\n",
    "    dims = v.shape\n",
    "    dim = dims[0]\n",
    "    for i in range(num_simulations):\n",
    "        v = alpha*L@v + (1-alpha)*np.ones(dims)/dim\n",
    "    return v"
   ]
  },
  {
   "cell_type": "code",
   "execution_count": 91,
   "metadata": {},
   "outputs": [
    {
     "data": {
      "text/plain": [
       "array([[0.21212121],\n",
       "       [0.15151515],\n",
       "       [0.63636364]])"
      ]
     },
     "execution_count": 91,
     "metadata": {},
     "output_type": "execute_result"
    }
   ],
   "source": [
    "adjusted_power_iteration(L2, v3, 10000, 0.8)"
   ]
  },
  {
   "cell_type": "code",
   "execution_count": null,
   "metadata": {},
   "outputs": [],
   "source": []
  }
 ],
 "metadata": {
  "kernelspec": {
   "display_name": "base",
   "language": "python",
   "name": "python3"
  },
  "language_info": {
   "codemirror_mode": {
    "name": "ipython",
    "version": 3
   },
   "file_extension": ".py",
   "mimetype": "text/x-python",
   "name": "python",
   "nbconvert_exporter": "python",
   "pygments_lexer": "ipython3",
   "version": "3.12.4"
  }
 },
 "nbformat": 4,
 "nbformat_minor": 2
}
